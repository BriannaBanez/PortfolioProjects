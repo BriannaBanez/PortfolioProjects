{
 "cells": [
  {
   "cell_type": "code",
   "execution_count": 1,
   "id": "35cc2232-da61-46ef-809e-b23c4ddcc3d6",
   "metadata": {},
   "outputs": [],
   "source": [
    "# import libraries\n",
    "\n",
    "from bs4 import BeautifulSoup\n",
    "import requests\n",
    "import smtplib\n",
    "import time\n",
    "import datetime\n",
    "import csv\n",
    "import pandas as pd"
   ]
  },
  {
   "cell_type": "code",
   "execution_count": 2,
   "id": "3d16648d-ee69-4d66-b923-71212702715e",
   "metadata": {},
   "outputs": [
    {
     "name": "stdout",
     "output_type": "stream",
     "text": [
      "Smeg FAB32URWH3 24 Inch Wide 11.7 Cu. Ft. Retro Refrigerator with Bottom Freezer - Right Hinge\n",
      "$3,699.00\n"
     ]
    }
   ],
   "source": [
    "# Connect to website and pull in data\n",
    "\n",
    "# Copy website URL and paste below\n",
    "URL = 'https://www.amazon.com/Smeg-Aesthetic-Refrigerator-Multiflow-Adjustable/dp/B07RHQ87PC/ref=sr_1_4?dib=eyJ2IjoiMSJ9.T-UDD1A0K65b46JvQrj1_Wzxy4nWh-6YBtJ0rCFexLhAvq61QrAZS0HCG7T02HgNER0IZb4ZMxXDgvTi8osh_i-gb2uJKFSTVOfTrVNrDUUdEHRnR1usjpjOjjYAdFPbuBfK9RA-4qIEiK-OZDJeVkEco1wa8d5AmG5rX--0nZ_pCr-LjTGuUMYPzSgH3Cg_qwCJ94hppcTE7BLCpTDFJfdXi-GifRnus_PBtLEiILk.pdSeSzt18q1WhOBa-27ZrpxOOn99ldXPHEhKD5zNSlA&dib_tag=se&keywords=smeg+fridge&qid=1717691962&sr=8-4'\n",
    "\n",
    "# Below is specific to each computer -- pull in from httpbin.org/get\n",
    "headers = {\"User-Agent\": \"Mozilla/5.0 (Macintosh; Intel Mac OS X 10_15_7) AppleWebKit/537.36 (KHTML, like Gecko) Chrome/124.0.0.0 Safari/537.36\", \"Accept-Encoding\":\"gzip, deflate\", \"Accept\":\"text/html,application/xhtml+xml,application/xml;q=0.9,*/*;q=0.8\", \"DNT\":\"1\",\"Connection\":\"close\", \"Upgrade-Insecure-Requests\":\"1\"}\n",
    "\n",
    "page = requests.get(URL, headers = headers)\n",
    "\n",
    "soup1 = BeautifulSoup(page.content, 'html.parser')\n",
    "\n",
    "soup2 = BeautifulSoup(soup1.prettify(), 'html.parser')\n",
    "\n",
    "title = soup2.find(id= 'productTitle').get_text(strip = True)\n",
    "\n",
    "price = soup2.find(class_= 'aok-offscreen').get_text(strip=True)\n",
    "\n",
    "print(title)\n",
    "print(price)"
   ]
  },
  {
   "cell_type": "code",
   "execution_count": 3,
   "id": "b0472d4b-0926-4db9-a829-2a4c930fa562",
   "metadata": {},
   "outputs": [
    {
     "data": {
      "text/plain": [
       "str"
      ]
     },
     "execution_count": 3,
     "metadata": {},
     "output_type": "execute_result"
    }
   ],
   "source": [
    "# Remove $ sign from price\n",
    "\n",
    "price = price[1:]\n",
    "\n",
    "type(price)"
   ]
  },
  {
   "cell_type": "code",
   "execution_count": 4,
   "id": "458eca0c-cd13-4f8e-a1d5-5acc59524b5b",
   "metadata": {},
   "outputs": [
    {
     "name": "stdout",
     "output_type": "stream",
     "text": [
      "2024-06-06\n"
     ]
    }
   ],
   "source": [
    "# Create a timestamp for output to track when data was collected\n",
    "\n",
    "today = datetime.date.today()\n",
    "\n",
    "print(today)"
   ]
  },
  {
   "cell_type": "code",
   "execution_count": 5,
   "id": "e22d4b52-e2ed-43ac-9b96-625294ec73fe",
   "metadata": {},
   "outputs": [],
   "source": [
    "# Create CSV and write headers and data into the file\n",
    "\n",
    "header = ['Title', 'Price', 'Date']\n",
    "data = [title,price, today]\n",
    "\n",
    "# Only run this section once, otherwise it will overwrite all previous data\n",
    "with open('AmazonWebScraperDataset.csv', 'w', newline = '', encoding = 'UTF8') as f:\n",
    "    writer = csv.writer(f)\n",
    "    writer.writerow(header)\n",
    "    writer.writerow(data)"
   ]
  },
  {
   "cell_type": "code",
   "execution_count": 6,
   "id": "49035709-1b8e-4b14-89a2-d97987550a3a",
   "metadata": {},
   "outputs": [
    {
     "name": "stdout",
     "output_type": "stream",
     "text": [
      "                                               Title     Price        Date\n",
      "0  Smeg FAB32URWH3 24 Inch Wide 11.7 Cu. Ft. Retr...  3,699.00  2024-06-06\n"
     ]
    }
   ],
   "source": [
    "df = pd.read_csv(r'AmazonWebScraperDataset.csv')\n",
    "\n",
    "print(df)"
   ]
  },
  {
   "cell_type": "code",
   "execution_count": 7,
   "id": "6c9c8ce2-c002-42a0-8c39-a0bff282647e",
   "metadata": {},
   "outputs": [],
   "source": [
    "# Appending data to CSV\n",
    "\n",
    "with open('AmazonWebScraperDataset.csv', 'a+', newline = '', encoding = 'UTF8') as f:\n",
    "    writer = csv.writer(f)\n",
    "    writer.writerow(data)"
   ]
  },
  {
   "cell_type": "code",
   "execution_count": 8,
   "id": "cb2aa285-9c0f-47f6-8d9c-df6d20afe3d4",
   "metadata": {},
   "outputs": [],
   "source": [
    "# Combine all of the above code into one function\n",
    "\n",
    "def check_price():\n",
    "    # Copy website URL and paste below\n",
    "    URL = 'https://www.amazon.com/Smeg-Aesthetic-Refrigerator-Multiflow-Adjustable/dp/B07RHQ87PC/ref=sr_1_4?dib=eyJ2IjoiMSJ9.T-UDD1A0K65b46JvQrj1_Wzxy4nWh-6YBtJ0rCFexLhAvq61QrAZS0HCG7T02HgNER0IZb4ZMxXDgvTi8osh_i-gb2uJKFSTVOfTrVNrDUUdEHRnR1usjpjOjjYAdFPbuBfK9RA-4qIEiK-OZDJeVkEco1wa8d5AmG5rX--0nZ_pCr-LjTGuUMYPzSgH3Cg_qwCJ94hppcTE7BLCpTDFJfdXi-GifRnus_PBtLEiILk.pdSeSzt18q1WhOBa-27ZrpxOOn99ldXPHEhKD5zNSlA&dib_tag=se&keywords=smeg+fridge&qid=1717691962&sr=8-4'\n",
    "\n",
    "    # Below is specific to each computer -- pull in from httpbin.org/get\n",
    "    headers = {\"User-Agent\": \"Mozilla/5.0 (Macintosh; Intel Mac OS X 10_15_7) AppleWebKit/537.36 (KHTML, like Gecko) Chrome/124.0.0.0 Safari/537.36\", \"Accept-Encoding\":\"gzip, deflate\", \"Accept\":\"text/html,application/xhtml+xml,application/xml;q=0.9,*/*;q=0.8\", \"DNT\":\"1\",\"Connection\":\"close\", \"Upgrade-Insecure-Requests\":\"1\"}\n",
    "\n",
    "    page = requests.get(URL, headers = headers)\n",
    "\n",
    "    soup1 = BeautifulSoup(page.content, 'html.parser')\n",
    "\n",
    "    soup2 = BeautifulSoup(soup1.prettify(), 'html.parser')\n",
    "\n",
    "    title = soup2.find(id= 'productTitle').get_text(strip = True)\n",
    "\n",
    "    price = soup2.find(class_= 'aok-offscreen').get_text(strip=True)\n",
    "\n",
    "    price = price[1:]\n",
    "\n",
    "    today = datetime.date.today()\n",
    "\n",
    "    header = ['Title', 'Price', 'Date']\n",
    "    data = [title,price, today]\n",
    "\n",
    "    with open('AmazonWebScraperDataset.csv', 'a+', newline = '', encoding = 'UTF8') as f:\n",
    "        writer = csv.writer(f)\n",
    "        writer.writerow(data)"
   ]
  },
  {
   "cell_type": "code",
   "execution_count": 9,
   "id": "c7c54f63-76c5-40c6-8f2b-21207d10a7ba",
   "metadata": {},
   "outputs": [
    {
     "ename": "KeyboardInterrupt",
     "evalue": "",
     "output_type": "error",
     "traceback": [
      "\u001b[0;31m---------------------------------------------------------------------------\u001b[0m",
      "\u001b[0;31mKeyboardInterrupt\u001b[0m                         Traceback (most recent call last)",
      "Cell \u001b[0;32mIn[9], line 5\u001b[0m\n\u001b[1;32m      3\u001b[0m \u001b[38;5;28;01mwhile\u001b[39;00m(\u001b[38;5;28;01mTrue\u001b[39;00m):\n\u001b[1;32m      4\u001b[0m     check_price()\n\u001b[0;32m----> 5\u001b[0m     time\u001b[38;5;241m.\u001b[39msleep(\u001b[38;5;241m86400\u001b[39m)\n",
      "\u001b[0;31mKeyboardInterrupt\u001b[0m: "
     ]
    }
   ],
   "source": [
    "# Run every 24 hours\n",
    "\n",
    "while(True):\n",
    "    check_price()\n",
    "    time.sleep(86400)"
   ]
  },
  {
   "cell_type": "code",
   "execution_count": 10,
   "id": "3c901c98-4679-47e5-b364-55d423c2e2d5",
   "metadata": {},
   "outputs": [
    {
     "name": "stdout",
     "output_type": "stream",
     "text": [
      "                                               Title     Price        Date\n",
      "0  Smeg FAB32URWH3 24 Inch Wide 11.7 Cu. Ft. Retr...  3,699.00  2024-06-06\n",
      "1  Smeg FAB32URWH3 24 Inch Wide 11.7 Cu. Ft. Retr...  3,699.00  2024-06-06\n",
      "2  Smeg FAB32URWH3 24 Inch Wide 11.7 Cu. Ft. Retr...  3,699.00  2024-06-06\n"
     ]
    }
   ],
   "source": [
    "df = pd.read_csv(r'AmazonWebScraperDataset.csv')\n",
    "\n",
    "print(df)"
   ]
  },
  {
   "cell_type": "code",
   "execution_count": null,
   "id": "dfc3d040-c46a-4de6-9b14-3df026470de3",
   "metadata": {},
   "outputs": [],
   "source": []
  }
 ],
 "metadata": {
  "kernelspec": {
   "display_name": "Python 3 (ipykernel)",
   "language": "python",
   "name": "python3"
  },
  "language_info": {
   "codemirror_mode": {
    "name": "ipython",
    "version": 3
   },
   "file_extension": ".py",
   "mimetype": "text/x-python",
   "name": "python",
   "nbconvert_exporter": "python",
   "pygments_lexer": "ipython3",
   "version": "3.11.7"
  }
 },
 "nbformat": 4,
 "nbformat_minor": 5
}
